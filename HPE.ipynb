{
  "nbformat": 4,
  "nbformat_minor": 0,
  "metadata": {
    "colab": {
      "name": "HPE.ipynb",
      "provenance": [],
      "collapsed_sections": []
    },
    "kernelspec": {
      "name": "python3",
      "display_name": "Python 3"
    },
    "language_info": {
      "name": "python"
    }
  },
  "cells": [
    {
      "cell_type": "markdown",
      "source": [
        "Link to the competition: [Techgig-HPE Competition](https://www.techgig.com/codegladiators/machine-learning)\n",
        "### Task:\n",
        "\n",
        "The candidates have to read the data and create a model based on the data analysis to identify if the website is legitimate or a phishing website. The Result will be determined by the two values [1, -1] where 1 represent the legitimate and -1 represents phishing.\n",
        "\n",
        "### Data Description:\n",
        "\n",
        "The data set consists of 30 features of a phishing website. The value of attributes can be [1, 0, -1] except the key value which is incremental.\n",
        "\n",
        "1 represents the legitimate\n",
        "\n",
        "0 represents suspicious\n",
        "\n",
        "-1 represents phishing"
      ],
      "metadata": {
        "id": "xUW7GEM6ytmL"
      }
    },
    {
      "cell_type": "code",
      "execution_count": 1,
      "metadata": {
        "id": "8TN4KL6UqcUm"
      },
      "outputs": [],
      "source": [
        "import pandas as pd\n",
        "import sklearn\n",
        "from sklearn.model_selection import train_test_split"
      ]
    },
    {
      "cell_type": "code",
      "source": [
        "from sklearn.ensemble import RandomForestClassifier\n",
        "from sklearn.linear_model import LogisticRegression\n",
        "from sklearn.tree import DecisionTreeClassifier\n",
        "from sklearn.svm import SVC\n",
        "from sklearn.neighbors import KNeighborsClassifier\n",
        "from xgboost.sklearn import XGBClassifier\n",
        "\n",
        "\n",
        "from sklearn.model_selection import GridSearchCV, RandomizedSearchCV\n",
        "from sklearn.metrics import f1_score, roc_auc_score, recall_score, precision_score, balanced_accuracy_score, log_loss, confusion_matrix,classification_report"
      ],
      "metadata": {
        "id": "YE9_927zjIdo"
      },
      "execution_count": 2,
      "outputs": []
    },
    {
      "cell_type": "code",
      "source": [
        "trainData = pd.read_csv('/content/drive/MyDrive/HPE Hackathon/Phising_Training_Dataset.csv')\n",
        "print(trainData.head(3))\n",
        "submitData = pd.read_csv('/content/drive/MyDrive/HPE Hackathon/Phising_Testing_Dataset.csv') \n",
        "print(submitData.head(3))"
      ],
      "metadata": {
        "id": "3NeamQw72lRL",
        "colab": {
          "base_uri": "https://localhost:8080/"
        },
        "outputId": "e48d93cb-c6b2-43c0-e934-08cb5332f8b7"
      },
      "execution_count": 3,
      "outputs": [
        {
          "output_type": "stream",
          "name": "stdout",
          "text": [
            "     key  having_IP  URL_Length  Shortining_Service  having_At_Symbol  \\\n",
            "0  12344         -1           1                   1                 1   \n",
            "1  12345          1           1                   1                 1   \n",
            "2  12346          1           0                   1                 1   \n",
            "\n",
            "   double_slash_redirecting  Prefix_Suffix  having_Sub_Domain  SSLfinal_State  \\\n",
            "0                        -1             -1                 -1              -1   \n",
            "1                         1             -1                  0               1   \n",
            "2                         1             -1                 -1              -1   \n",
            "\n",
            "   Domain_registeration_length  ...  popUpWidnow  Iframe  age_of_domain  \\\n",
            "0                           -1  ...            1       1             -1   \n",
            "1                           -1  ...            1       1             -1   \n",
            "2                           -1  ...            1       1              1   \n",
            "\n",
            "   DNSRecord  web_traffic  Page_Rank  Google_Index  Links_pointing_to_page  \\\n",
            "0         -1           -1         -1             1                       1   \n",
            "1         -1            0         -1             1                       1   \n",
            "2         -1            1         -1             1                       0   \n",
            "\n",
            "   Statistical_report  Result  \n",
            "0                  -1      -1  \n",
            "1                   1      -1  \n",
            "2                  -1      -1  \n",
            "\n",
            "[3 rows x 32 columns]\n",
            "     key  having_IP  URL_Length  Shortining_Service  having_At_Symbol  \\\n",
            "0  21338          1           1                   1                 1   \n",
            "1  21339          1          -1                   1                 1   \n",
            "2  21340          1          -1                   1                 1   \n",
            "\n",
            "   double_slash_redirecting  Prefix_Suffix  having_Sub_Domain  SSLfinal_State  \\\n",
            "0                         1              1                 -1               1   \n",
            "1                         1             -1                  0              -1   \n",
            "2                         1             -1                  0               0   \n",
            "\n",
            "   Domain_registeration_length  ...  RightClick  popUpWidnow  Iframe  \\\n",
            "0                           -1  ...           1            1       1   \n",
            "1                            1  ...           1            1       1   \n",
            "2                           -1  ...          -1           -1      -1   \n",
            "\n",
            "   age_of_domain  DNSRecord  web_traffic  Page_Rank  Google_Index  \\\n",
            "0              1          1            1          1            -1   \n",
            "1             -1         -1            0         -1            -1   \n",
            "2              1         -1            1         -1             1   \n",
            "\n",
            "   Links_pointing_to_page  Statistical_report  \n",
            "0                       0                   1  \n",
            "1                       0                   1  \n",
            "2                       1                  -1  \n",
            "\n",
            "[3 rows x 31 columns]\n"
          ]
        }
      ]
    },
    {
      "cell_type": "code",
      "source": [
        "trainData.info()"
      ],
      "metadata": {
        "id": "qL2FH9sL4n4F",
        "colab": {
          "base_uri": "https://localhost:8080/"
        },
        "outputId": "0dc6e45b-c4dc-4e98-a4ec-cde903ae3f6a"
      },
      "execution_count": 15,
      "outputs": [
        {
          "output_type": "stream",
          "name": "stdout",
          "text": [
            "<class 'pandas.core.frame.DataFrame'>\n",
            "RangeIndex: 8955 entries, 0 to 8954\n",
            "Data columns (total 32 columns):\n",
            " #   Column                       Non-Null Count  Dtype\n",
            "---  ------                       --------------  -----\n",
            " 0   key                          8955 non-null   int64\n",
            " 1   having_IP                    8955 non-null   int64\n",
            " 2   URL_Length                   8955 non-null   int64\n",
            " 3   Shortining_Service           8955 non-null   int64\n",
            " 4   having_At_Symbol             8955 non-null   int64\n",
            " 5   double_slash_redirecting     8955 non-null   int64\n",
            " 6   Prefix_Suffix                8955 non-null   int64\n",
            " 7   having_Sub_Domain            8955 non-null   int64\n",
            " 8   SSLfinal_State               8955 non-null   int64\n",
            " 9   Domain_registeration_length  8955 non-null   int64\n",
            " 10  Favicon                      8955 non-null   int64\n",
            " 11  port                         8955 non-null   int64\n",
            " 12  HTTPS_token                  8955 non-null   int64\n",
            " 13  Request_URL                  8955 non-null   int64\n",
            " 14  URL_of_Anchor                8955 non-null   int64\n",
            " 15  Links_in_tags                8955 non-null   int64\n",
            " 16  SFH                          8955 non-null   int64\n",
            " 17  Submitting_to_email          8955 non-null   int64\n",
            " 18  Abnormal_URL                 8955 non-null   int64\n",
            " 19  Redirect                     8955 non-null   int64\n",
            " 20  on_mouseover                 8955 non-null   int64\n",
            " 21  RightClick                   8955 non-null   int64\n",
            " 22  popUpWidnow                  8955 non-null   int64\n",
            " 23  Iframe                       8955 non-null   int64\n",
            " 24  age_of_domain                8955 non-null   int64\n",
            " 25  DNSRecord                    8955 non-null   int64\n",
            " 26  web_traffic                  8955 non-null   int64\n",
            " 27  Page_Rank                    8955 non-null   int64\n",
            " 28  Google_Index                 8955 non-null   int64\n",
            " 29  Links_pointing_to_page       8955 non-null   int64\n",
            " 30  Statistical_report           8955 non-null   int64\n",
            " 31  Result                       8955 non-null   int64\n",
            "dtypes: int64(32)\n",
            "memory usage: 2.2 MB\n"
          ]
        }
      ]
    },
    {
      "cell_type": "code",
      "source": [
        "submitData.info()"
      ],
      "metadata": {
        "id": "rBZGCcVD_J1F"
      },
      "execution_count": null,
      "outputs": []
    },
    {
      "cell_type": "code",
      "source": [
        "print(\"Training Data:\")\n",
        "for col in trainData.columns[1:]:\n",
        "    print(trainData[col].value_counts())"
      ],
      "metadata": {
        "id": "qrvja4BeN7vx"
      },
      "execution_count": null,
      "outputs": []
    },
    {
      "cell_type": "code",
      "source": [
        "#trainData = trainData.sample(frac=1).reset_index(drop=True)"
      ],
      "metadata": {
        "id": "2JIIeYH49RnX"
      },
      "execution_count": null,
      "outputs": []
    },
    {
      "cell_type": "code",
      "source": [
        "trainData.head(3)"
      ],
      "metadata": {
        "id": "E-5QF32OAWx5"
      },
      "execution_count": null,
      "outputs": []
    },
    {
      "cell_type": "code",
      "source": [
        "y= trainData['Result']\n",
        "X = trainData.drop(['Result','key'],axis=1)"
      ],
      "metadata": {
        "id": "3dKaF_Zl5GFG"
      },
      "execution_count": 4,
      "outputs": []
    },
    {
      "cell_type": "code",
      "source": [
        "X_train, X_test, y_train, y_test = train_test_split(X,y,stratify=y,test_size=0.20)"
      ],
      "metadata": {
        "id": "NBDJhPkMlTbj"
      },
      "execution_count": 5,
      "outputs": []
    },
    {
      "cell_type": "markdown",
      "source": [
        "Multiple Models"
      ],
      "metadata": {
        "id": "hXJAyl_ePpTM"
      }
    },
    {
      "cell_type": "code",
      "source": [
        "values=[]\n",
        "models = [RandomForestClassifier(random_state=42),LogisticRegression(),DecisionTreeClassifier(random_state=42),SVC(random_state=42),KNeighborsClassifier(),XGBClassifier()]\n",
        "for m in models:\n",
        "  m.fit(X_train,y_train)\n",
        "  y_pred=m.predict(X_test)\n",
        "  print(m)\n",
        "  print(classification_report(y_test,y_pred)[1])\n",
        "  print(confusion_matrix(y_test,y_pred))\n",
        "  values.append([str(m)[:10],f1_score(y_test,y_pred), roc_auc_score(y_test,y_pred), recall_score(y_test,y_pred), precision_score(y_test,y_pred), \n",
        "      balanced_accuracy_score(y_test,y_pred), log_loss(y_test,y_pred)])\n",
        "  print('==========================================================')"
      ],
      "metadata": {
        "colab": {
          "base_uri": "https://localhost:8080/"
        },
        "id": "YCHFkm5iiyO4",
        "outputId": "aa4433b3-d365-4eab-c235-401c92e8691e"
      },
      "execution_count": 6,
      "outputs": [
        {
          "output_type": "stream",
          "name": "stdout",
          "text": [
            "RandomForestClassifier(random_state=42)\n",
            " \n",
            "[[757  27]\n",
            " [ 19 988]]\n",
            "==========================================================\n",
            "LogisticRegression()\n",
            " \n",
            "[[716  68]\n",
            " [ 53 954]]\n",
            "==========================================================\n",
            "DecisionTreeClassifier(random_state=42)\n",
            " \n",
            "[[753  31]\n",
            " [ 47 960]]\n",
            "==========================================================\n",
            "SVC(random_state=42)\n",
            " \n",
            "[[726  58]\n",
            " [ 33 974]]\n",
            "==========================================================\n",
            "KNeighborsClassifier()\n",
            " \n",
            "[[736  48]\n",
            " [ 43 964]]\n",
            "==========================================================\n",
            "XGBClassifier()\n",
            " \n",
            "[[729  55]\n",
            " [ 37 970]]\n",
            "==========================================================\n"
          ]
        }
      ]
    },
    {
      "cell_type": "code",
      "source": [
        "values.insert(0,['Model','f1_score','roc_auc_score','recall_score','precision_score','balanced_accuracy_score','log_loss'])\n",
        "results= pd.DataFrame(values[1:],columns=values[0])"
      ],
      "metadata": {
        "id": "hN2PlQiTlzgL"
      },
      "execution_count": null,
      "outputs": []
    },
    {
      "cell_type": "code",
      "source": [
        "results[['Model','f1_score','roc_auc_score','recall_score']]"
      ],
      "metadata": {
        "colab": {
          "base_uri": "https://localhost:8080/",
          "height": 237
        },
        "outputId": "81e7b375-89fb-4dd4-db39-e1bb8f7f1678",
        "id": "_D-NcdRYlzgL"
      },
      "execution_count": null,
      "outputs": [
        {
          "output_type": "execute_result",
          "data": {
            "text/plain": [
              "        Model  f1_score  roc_auc_score  recall_score\n",
              "0  RandomFore  0.969444       0.968384      0.976036\n",
              "1  LogisticRe  0.917414       0.914291      0.928109\n",
              "2  DecisionTr  0.958842       0.957447      0.965674\n",
              "3       SVC()  0.942793       0.940418      0.955311\n",
              "4  KNeighbors  0.944591       0.944773      0.927461\n",
              "5  XGBClassif  0.947807       0.945761      0.958549"
            ],
            "text/html": [
              "\n",
              "  <div id=\"df-ad5ab3e4-883d-427c-bc35-4e33726a490f\">\n",
              "    <div class=\"colab-df-container\">\n",
              "      <div>\n",
              "<style scoped>\n",
              "    .dataframe tbody tr th:only-of-type {\n",
              "        vertical-align: middle;\n",
              "    }\n",
              "\n",
              "    .dataframe tbody tr th {\n",
              "        vertical-align: top;\n",
              "    }\n",
              "\n",
              "    .dataframe thead th {\n",
              "        text-align: right;\n",
              "    }\n",
              "</style>\n",
              "<table border=\"1\" class=\"dataframe\">\n",
              "  <thead>\n",
              "    <tr style=\"text-align: right;\">\n",
              "      <th></th>\n",
              "      <th>Model</th>\n",
              "      <th>f1_score</th>\n",
              "      <th>roc_auc_score</th>\n",
              "      <th>recall_score</th>\n",
              "    </tr>\n",
              "  </thead>\n",
              "  <tbody>\n",
              "    <tr>\n",
              "      <th>0</th>\n",
              "      <td>RandomFore</td>\n",
              "      <td>0.969444</td>\n",
              "      <td>0.968384</td>\n",
              "      <td>0.976036</td>\n",
              "    </tr>\n",
              "    <tr>\n",
              "      <th>1</th>\n",
              "      <td>LogisticRe</td>\n",
              "      <td>0.917414</td>\n",
              "      <td>0.914291</td>\n",
              "      <td>0.928109</td>\n",
              "    </tr>\n",
              "    <tr>\n",
              "      <th>2</th>\n",
              "      <td>DecisionTr</td>\n",
              "      <td>0.958842</td>\n",
              "      <td>0.957447</td>\n",
              "      <td>0.965674</td>\n",
              "    </tr>\n",
              "    <tr>\n",
              "      <th>3</th>\n",
              "      <td>SVC()</td>\n",
              "      <td>0.942793</td>\n",
              "      <td>0.940418</td>\n",
              "      <td>0.955311</td>\n",
              "    </tr>\n",
              "    <tr>\n",
              "      <th>4</th>\n",
              "      <td>KNeighbors</td>\n",
              "      <td>0.944591</td>\n",
              "      <td>0.944773</td>\n",
              "      <td>0.927461</td>\n",
              "    </tr>\n",
              "    <tr>\n",
              "      <th>5</th>\n",
              "      <td>XGBClassif</td>\n",
              "      <td>0.947807</td>\n",
              "      <td>0.945761</td>\n",
              "      <td>0.958549</td>\n",
              "    </tr>\n",
              "  </tbody>\n",
              "</table>\n",
              "</div>\n",
              "      <button class=\"colab-df-convert\" onclick=\"convertToInteractive('df-ad5ab3e4-883d-427c-bc35-4e33726a490f')\"\n",
              "              title=\"Convert this dataframe to an interactive table.\"\n",
              "              style=\"display:none;\">\n",
              "        \n",
              "  <svg xmlns=\"http://www.w3.org/2000/svg\" height=\"24px\"viewBox=\"0 0 24 24\"\n",
              "       width=\"24px\">\n",
              "    <path d=\"M0 0h24v24H0V0z\" fill=\"none\"/>\n",
              "    <path d=\"M18.56 5.44l.94 2.06.94-2.06 2.06-.94-2.06-.94-.94-2.06-.94 2.06-2.06.94zm-11 1L8.5 8.5l.94-2.06 2.06-.94-2.06-.94L8.5 2.5l-.94 2.06-2.06.94zm10 10l.94 2.06.94-2.06 2.06-.94-2.06-.94-.94-2.06-.94 2.06-2.06.94z\"/><path d=\"M17.41 7.96l-1.37-1.37c-.4-.4-.92-.59-1.43-.59-.52 0-1.04.2-1.43.59L10.3 9.45l-7.72 7.72c-.78.78-.78 2.05 0 2.83L4 21.41c.39.39.9.59 1.41.59.51 0 1.02-.2 1.41-.59l7.78-7.78 2.81-2.81c.8-.78.8-2.07 0-2.86zM5.41 20L4 18.59l7.72-7.72 1.47 1.35L5.41 20z\"/>\n",
              "  </svg>\n",
              "      </button>\n",
              "      \n",
              "  <style>\n",
              "    .colab-df-container {\n",
              "      display:flex;\n",
              "      flex-wrap:wrap;\n",
              "      gap: 12px;\n",
              "    }\n",
              "\n",
              "    .colab-df-convert {\n",
              "      background-color: #E8F0FE;\n",
              "      border: none;\n",
              "      border-radius: 50%;\n",
              "      cursor: pointer;\n",
              "      display: none;\n",
              "      fill: #1967D2;\n",
              "      height: 32px;\n",
              "      padding: 0 0 0 0;\n",
              "      width: 32px;\n",
              "    }\n",
              "\n",
              "    .colab-df-convert:hover {\n",
              "      background-color: #E2EBFA;\n",
              "      box-shadow: 0px 1px 2px rgba(60, 64, 67, 0.3), 0px 1px 3px 1px rgba(60, 64, 67, 0.15);\n",
              "      fill: #174EA6;\n",
              "    }\n",
              "\n",
              "    [theme=dark] .colab-df-convert {\n",
              "      background-color: #3B4455;\n",
              "      fill: #D2E3FC;\n",
              "    }\n",
              "\n",
              "    [theme=dark] .colab-df-convert:hover {\n",
              "      background-color: #434B5C;\n",
              "      box-shadow: 0px 1px 3px 1px rgba(0, 0, 0, 0.15);\n",
              "      filter: drop-shadow(0px 1px 2px rgba(0, 0, 0, 0.3));\n",
              "      fill: #FFFFFF;\n",
              "    }\n",
              "  </style>\n",
              "\n",
              "      <script>\n",
              "        const buttonEl =\n",
              "          document.querySelector('#df-ad5ab3e4-883d-427c-bc35-4e33726a490f button.colab-df-convert');\n",
              "        buttonEl.style.display =\n",
              "          google.colab.kernel.accessAllowed ? 'block' : 'none';\n",
              "\n",
              "        async function convertToInteractive(key) {\n",
              "          const element = document.querySelector('#df-ad5ab3e4-883d-427c-bc35-4e33726a490f');\n",
              "          const dataTable =\n",
              "            await google.colab.kernel.invokeFunction('convertToInteractive',\n",
              "                                                     [key], {});\n",
              "          if (!dataTable) return;\n",
              "\n",
              "          const docLinkHtml = 'Like what you see? Visit the ' +\n",
              "            '<a target=\"_blank\" href=https://colab.research.google.com/notebooks/data_table.ipynb>data table notebook</a>'\n",
              "            + ' to learn more about interactive tables.';\n",
              "          element.innerHTML = '';\n",
              "          dataTable['output_type'] = 'display_data';\n",
              "          await google.colab.output.renderOutput(dataTable, element);\n",
              "          const docLink = document.createElement('div');\n",
              "          docLink.innerHTML = docLinkHtml;\n",
              "          element.appendChild(docLink);\n",
              "        }\n",
              "      </script>\n",
              "    </div>\n",
              "  </div>\n",
              "  "
            ]
          },
          "metadata": {},
          "execution_count": 15
        }
      ]
    },
    {
      "cell_type": "code",
      "source": [
        "results[['precision_score','balanced_accuracy_score','log_loss']]"
      ],
      "metadata": {
        "colab": {
          "base_uri": "https://localhost:8080/",
          "height": 237
        },
        "outputId": "504c9a0d-8b43-43b1-a7b7-fa5f39a627f0",
        "id": "Gi05NOGrlzgM"
      },
      "execution_count": null,
      "outputs": [
        {
          "output_type": "execute_result",
          "data": {
            "text/plain": [
              "   precision_score  balanced_accuracy_score  log_loss\n",
              "0         0.962939                 0.968384  1.086140\n",
              "1         0.906962                 0.914291  2.949726\n",
              "2         0.952107                 0.957447  1.463430\n",
              "3         0.930599                 0.940418  2.046517\n",
              "4         0.962366                 0.944773  1.920741\n",
              "5         0.937302                 0.945761  1.863588"
            ],
            "text/html": [
              "\n",
              "  <div id=\"df-7e91983b-63a5-4abb-aa5a-c4c2a13649b4\">\n",
              "    <div class=\"colab-df-container\">\n",
              "      <div>\n",
              "<style scoped>\n",
              "    .dataframe tbody tr th:only-of-type {\n",
              "        vertical-align: middle;\n",
              "    }\n",
              "\n",
              "    .dataframe tbody tr th {\n",
              "        vertical-align: top;\n",
              "    }\n",
              "\n",
              "    .dataframe thead th {\n",
              "        text-align: right;\n",
              "    }\n",
              "</style>\n",
              "<table border=\"1\" class=\"dataframe\">\n",
              "  <thead>\n",
              "    <tr style=\"text-align: right;\">\n",
              "      <th></th>\n",
              "      <th>precision_score</th>\n",
              "      <th>balanced_accuracy_score</th>\n",
              "      <th>log_loss</th>\n",
              "    </tr>\n",
              "  </thead>\n",
              "  <tbody>\n",
              "    <tr>\n",
              "      <th>0</th>\n",
              "      <td>0.962939</td>\n",
              "      <td>0.968384</td>\n",
              "      <td>1.086140</td>\n",
              "    </tr>\n",
              "    <tr>\n",
              "      <th>1</th>\n",
              "      <td>0.906962</td>\n",
              "      <td>0.914291</td>\n",
              "      <td>2.949726</td>\n",
              "    </tr>\n",
              "    <tr>\n",
              "      <th>2</th>\n",
              "      <td>0.952107</td>\n",
              "      <td>0.957447</td>\n",
              "      <td>1.463430</td>\n",
              "    </tr>\n",
              "    <tr>\n",
              "      <th>3</th>\n",
              "      <td>0.930599</td>\n",
              "      <td>0.940418</td>\n",
              "      <td>2.046517</td>\n",
              "    </tr>\n",
              "    <tr>\n",
              "      <th>4</th>\n",
              "      <td>0.962366</td>\n",
              "      <td>0.944773</td>\n",
              "      <td>1.920741</td>\n",
              "    </tr>\n",
              "    <tr>\n",
              "      <th>5</th>\n",
              "      <td>0.937302</td>\n",
              "      <td>0.945761</td>\n",
              "      <td>1.863588</td>\n",
              "    </tr>\n",
              "  </tbody>\n",
              "</table>\n",
              "</div>\n",
              "      <button class=\"colab-df-convert\" onclick=\"convertToInteractive('df-7e91983b-63a5-4abb-aa5a-c4c2a13649b4')\"\n",
              "              title=\"Convert this dataframe to an interactive table.\"\n",
              "              style=\"display:none;\">\n",
              "        \n",
              "  <svg xmlns=\"http://www.w3.org/2000/svg\" height=\"24px\"viewBox=\"0 0 24 24\"\n",
              "       width=\"24px\">\n",
              "    <path d=\"M0 0h24v24H0V0z\" fill=\"none\"/>\n",
              "    <path d=\"M18.56 5.44l.94 2.06.94-2.06 2.06-.94-2.06-.94-.94-2.06-.94 2.06-2.06.94zm-11 1L8.5 8.5l.94-2.06 2.06-.94-2.06-.94L8.5 2.5l-.94 2.06-2.06.94zm10 10l.94 2.06.94-2.06 2.06-.94-2.06-.94-.94-2.06-.94 2.06-2.06.94z\"/><path d=\"M17.41 7.96l-1.37-1.37c-.4-.4-.92-.59-1.43-.59-.52 0-1.04.2-1.43.59L10.3 9.45l-7.72 7.72c-.78.78-.78 2.05 0 2.83L4 21.41c.39.39.9.59 1.41.59.51 0 1.02-.2 1.41-.59l7.78-7.78 2.81-2.81c.8-.78.8-2.07 0-2.86zM5.41 20L4 18.59l7.72-7.72 1.47 1.35L5.41 20z\"/>\n",
              "  </svg>\n",
              "      </button>\n",
              "      \n",
              "  <style>\n",
              "    .colab-df-container {\n",
              "      display:flex;\n",
              "      flex-wrap:wrap;\n",
              "      gap: 12px;\n",
              "    }\n",
              "\n",
              "    .colab-df-convert {\n",
              "      background-color: #E8F0FE;\n",
              "      border: none;\n",
              "      border-radius: 50%;\n",
              "      cursor: pointer;\n",
              "      display: none;\n",
              "      fill: #1967D2;\n",
              "      height: 32px;\n",
              "      padding: 0 0 0 0;\n",
              "      width: 32px;\n",
              "    }\n",
              "\n",
              "    .colab-df-convert:hover {\n",
              "      background-color: #E2EBFA;\n",
              "      box-shadow: 0px 1px 2px rgba(60, 64, 67, 0.3), 0px 1px 3px 1px rgba(60, 64, 67, 0.15);\n",
              "      fill: #174EA6;\n",
              "    }\n",
              "\n",
              "    [theme=dark] .colab-df-convert {\n",
              "      background-color: #3B4455;\n",
              "      fill: #D2E3FC;\n",
              "    }\n",
              "\n",
              "    [theme=dark] .colab-df-convert:hover {\n",
              "      background-color: #434B5C;\n",
              "      box-shadow: 0px 1px 3px 1px rgba(0, 0, 0, 0.15);\n",
              "      filter: drop-shadow(0px 1px 2px rgba(0, 0, 0, 0.3));\n",
              "      fill: #FFFFFF;\n",
              "    }\n",
              "  </style>\n",
              "\n",
              "      <script>\n",
              "        const buttonEl =\n",
              "          document.querySelector('#df-7e91983b-63a5-4abb-aa5a-c4c2a13649b4 button.colab-df-convert');\n",
              "        buttonEl.style.display =\n",
              "          google.colab.kernel.accessAllowed ? 'block' : 'none';\n",
              "\n",
              "        async function convertToInteractive(key) {\n",
              "          const element = document.querySelector('#df-7e91983b-63a5-4abb-aa5a-c4c2a13649b4');\n",
              "          const dataTable =\n",
              "            await google.colab.kernel.invokeFunction('convertToInteractive',\n",
              "                                                     [key], {});\n",
              "          if (!dataTable) return;\n",
              "\n",
              "          const docLinkHtml = 'Like what you see? Visit the ' +\n",
              "            '<a target=\"_blank\" href=https://colab.research.google.com/notebooks/data_table.ipynb>data table notebook</a>'\n",
              "            + ' to learn more about interactive tables.';\n",
              "          element.innerHTML = '';\n",
              "          dataTable['output_type'] = 'display_data';\n",
              "          await google.colab.output.renderOutput(dataTable, element);\n",
              "          const docLink = document.createElement('div');\n",
              "          docLink.innerHTML = docLinkHtml;\n",
              "          element.appendChild(docLink);\n",
              "        }\n",
              "      </script>\n",
              "    </div>\n",
              "  </div>\n",
              "  "
            ]
          },
          "metadata": {},
          "execution_count": 16
        }
      ]
    },
    {
      "cell_type": "markdown",
      "source": [
        "XGBoost Implementation "
      ],
      "metadata": {
        "id": "a-aL_v7A-RZ1"
      }
    },
    {
      "cell_type": "code",
      "source": [
        "xgb_cl = xgb.XGBClassifier()\n",
        "xgb_cl.fit(X_train, y_train)\n",
        "y_preds = xgb_cl.predict(X_test)\n",
        "print(\"Initial Training for XGBoost:\",accuracy_score(y_test, y_preds))\n",
        "param_grid_xgb = {\n",
        "    \"max_depth\": [7,9,10,12,14],\n",
        "    \"learning_rate\": [0.1,0.09,0.08],\n",
        "    \"gamma\": [0.1, 0.25, 5],\n",
        "    \"reg_lambda\": [0, 1, 10],\n",
        "    \"scale_pos_weight\": [1, 3, 5],\n",
        "    \"subsample\": [0.8],\n",
        "    \"colsample_bytree\": [0.5],\n",
        "}"
      ],
      "metadata": {
        "colab": {
          "base_uri": "https://localhost:8080/"
        },
        "id": "YFP1-KnP91y4",
        "outputId": "e3a6e41e-b8af-4a25-f6ce-ca8011a8600e"
      },
      "execution_count": null,
      "outputs": [
        {
          "output_type": "execute_result",
          "data": {
            "text/plain": [
              "0.9455113890129522"
            ]
          },
          "metadata": {},
          "execution_count": 9
        }
      ]
    },
    {
      "cell_type": "code",
      "source": [
        "grid_cv = GridSearchCV(xgb_cl, param_grid, n_jobs=-1, cv=3, scoring=\"roc_auc\")\n",
        "_ = grid_cv.fit(X_train, y_train)\n",
        "print(grid_cv.best_params_)\n",
        "print(grid_cv.best_score_)\n",
        "xgCl = xgb.XGBClassifier(**grid_cv.best_params_,)\n",
        "xgCl.fit(X_train, y_train)\n",
        "y_preds = xgCl.predict(X_test)\n",
        "confusion_matrix(y_test,y_preds)"
      ],
      "metadata": {
        "id": "FR2Xm0gVcxwv"
      },
      "execution_count": null,
      "outputs": []
    },
    {
      "cell_type": "markdown",
      "source": [
        "Classification using SVM"
      ],
      "metadata": {
        "id": "Yp_DTRQu_ZGA"
      }
    },
    {
      "cell_type": "code",
      "source": [
        "param_grid_svc = {\n",
        "    'C': [100,120,140,160,180,200],\n",
        "    'gamma': ['scale', 'auto'],\n",
        "    'kernel' : ['linear', 'poly', 'rbf', 'sigmoid']}\n",
        "\n",
        "grid_cv = GridSearchCV(models[3], param_grid_svc,cv=5,verbose=3)\n",
        "_ = grid_cv.fit(X_train, y_train)"
      ],
      "metadata": {
        "id": "7Lx6jE_HPE8m"
      },
      "execution_count": null,
      "outputs": []
    },
    {
      "cell_type": "code",
      "source": [
        "print(grid_cv.best_params_)\n",
        "print(grid_cv.best_score_)\n",
        "svCl = SVC(**grid_cv.best_params_,random_state=42)\n",
        "svCl.fit(X_train, y_train)\n",
        "y_preds = svCl.predict(X_test)\n",
        "confusion_matrix(y_test,y_preds)"
      ],
      "metadata": {
        "colab": {
          "base_uri": "https://localhost:8080/"
        },
        "outputId": "5e734114-edd9-416f-9b26-901311d664a9",
        "id": "3m0dqLIDPE8n"
      },
      "execution_count": 8,
      "outputs": [
        {
          "output_type": "stream",
          "name": "stdout",
          "text": [
            "{'C': 140, 'gamma': 'auto', 'kernel': 'rbf'}\n",
            "0.957285766080458\n"
          ]
        },
        {
          "output_type": "execute_result",
          "data": {
            "text/plain": [
              "array([[749,  35],\n",
              "       [ 29, 978]])"
            ]
          },
          "metadata": {},
          "execution_count": 8
        }
      ]
    },
    {
      "cell_type": "markdown",
      "source": [
        "Random Forests"
      ],
      "metadata": {
        "id": "Nk4-UeN9hPvM"
      }
    },
    {
      "cell_type": "code",
      "source": [
        "param_grid_rf = {\n",
        "    'n_estimators': [100,120,140,160,180,200],\n",
        "    'max_features': ['auto', 'sqrt', 'log2'],\n",
        "    'max_depth' : [25,30,35,40],\n",
        "    'criterion' :['gini']}\n",
        "\n",
        "grid_cv = GridSearchCV(models[0], param_grid_rf,cv=5)\n",
        "_ = grid_cv.fit(X_train, y_train)"
      ],
      "metadata": {
        "id": "RyEp1pszqSlG"
      },
      "execution_count": 13,
      "outputs": []
    },
    {
      "cell_type": "code",
      "source": [
        "print(grid_cv.best_params_)\n",
        "print(grid_cv.best_score_)\n",
        "rfCl = RandomForestClassifier(**grid_cv.best_params_,random_state=42)\n",
        "rfCl.fit(X_train, y_train)\n",
        "y_preds = rfCl.predict(X_test)\n",
        "confusion_matrix(y_test,y_preds)"
      ],
      "metadata": {
        "id": "_WgGRulcqSaJ",
        "colab": {
          "base_uri": "https://localhost:8080/"
        },
        "outputId": "984673f1-9450-4678-9d48-3a9286d9fef4"
      },
      "execution_count": 14,
      "outputs": [
        {
          "output_type": "stream",
          "name": "stdout",
          "text": [
            "{'criterion': 'gini', 'max_depth': 35, 'max_features': 'sqrt', 'n_estimators': 100}\n",
            "0.9669183492068442\n"
          ]
        },
        {
          "output_type": "execute_result",
          "data": {
            "text/plain": [
              "array([[742,  42],\n",
              "       [ 12, 995]])"
            ]
          },
          "metadata": {},
          "execution_count": 14
        }
      ]
    },
    {
      "cell_type": "markdown",
      "source": [
        "Decision trees GridSearch"
      ],
      "metadata": {
        "id": "QaWk1fheC4WS"
      }
    },
    {
      "cell_type": "code",
      "source": [
        "param_grid_dtc = {\n",
        "    'criterion' : ['gini', 'entropy'],\n",
        "    'splitter' : ['best', 'random'],\n",
        "    'max_depth' : [15,17,20,23,27,30]}\n",
        "\n",
        "grid_cv = GridSearchCV(models[2], param_grid_dtc,cv=5)\n",
        "_ = grid_cv.fit(X_train, y_train)"
      ],
      "metadata": {
        "id": "br1cwgBdC7me"
      },
      "execution_count": 11,
      "outputs": []
    },
    {
      "cell_type": "code",
      "source": [
        "print(grid_cv.best_params_)\n",
        "print(grid_cv.best_score_)\n",
        "dtCl = DecisionTreeClassifier(**grid_cv.best_params_,random_state=42)\n",
        "dtCl.fit(X_train, y_train)\n",
        "y_preds = dtCl.predict(X_test)\n",
        "confusion_matrix(y_test,y_preds)"
      ],
      "metadata": {
        "colab": {
          "base_uri": "https://localhost:8080/"
        },
        "outputId": "30b77a1e-0118-4f90-c605-902a307bd10b",
        "id": "dHYfHZn6C7mf"
      },
      "execution_count": 12,
      "outputs": [
        {
          "output_type": "stream",
          "name": "stdout",
          "text": [
            "{'criterion': 'entropy', 'max_depth': 27, 'splitter': 'random'}\n",
            "0.9565876369845657\n"
          ]
        },
        {
          "output_type": "execute_result",
          "data": {
            "text/plain": [
              "array([[738,  46],\n",
              "       [ 23, 984]])"
            ]
          },
          "metadata": {},
          "execution_count": 12
        }
      ]
    },
    {
      "cell_type": "markdown",
      "source": [
        "Writing results to csv file"
      ],
      "metadata": {
        "id": "9FmAW6mN-_EW"
      }
    },
    {
      "cell_type": "code",
      "source": [
        "finalSubmission = pd.DataFrame(columns=['key','Result'])\n",
        "finalSubmission['key'] = submitData['key']\n",
        "X_prediction = submitData.drop('key',axis=1)\n",
        "y_prediction = model_DTC.predict(X_prediction)\n",
        "finalSubmission['Result'] = y_prediction\n",
        "finalSubmission.to_csv('/content/drive/MyDrive/HPE Hackathon/submissionFile.csv',index=False)"
      ],
      "metadata": {
        "id": "AgeBAijqyMxH"
      },
      "execution_count": null,
      "outputs": []
    }
  ]
}